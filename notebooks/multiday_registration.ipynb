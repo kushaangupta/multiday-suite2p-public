{
 "cells": [
  {
   "cell_type": "markdown",
   "metadata": {},
   "source": [
    "# Multiday registration example notebook\n",
    "\n",
    "This is a general purpose notebook that takes you step-by-step through the multiday registration process.\n",
    "\n",
    "\n",
    "## Checking results.\n",
    "After some steps a GUI is created which allows you to check the result of a certain process.\n",
    "It is highly advised to always do this to make sure nothing unexpected is happening!"
   ]
  },
  {
   "cell_type": "markdown",
   "metadata": {},
   "source": [
    "# Setup"
   ]
  },
  {
   "cell_type": "code",
   "execution_count": 1,
   "metadata": {
    "scrolled": true
   },
   "outputs": [],
   "source": [
    "%load_ext autoreload\n",
    "%autoreload 2\n",
    "import numpy as np\n",
    "import pickle\n",
    "from multiday_suite2p import transform\n",
    "from multiday_suite2p.io import registration_data_folder"
   ]
  },
  {
   "cell_type": "markdown",
   "metadata": {},
   "source": [
    "# Load general settings file.\n",
    "Select the general settings file that contains the processing parameters"
   ]
  },
  {
   "cell_type": "code",
   "execution_count": 2,
   "metadata": {},
   "outputs": [
    {
     "data": {
      "application/vnd.jupyter.widget-view+json": {
       "model_id": "560ca3097168487cacc039b99bcee05d",
       "version_major": 2,
       "version_minor": 0
      },
      "text/plain": [
       "FileChooser(path='/home/cornell/Desktop/Kushaan/projects/suite2pOptimized/multiday-suite2p-public', filename='…"
      ]
     },
     "metadata": {},
     "output_type": "display_data"
    }
   ],
   "source": [
    "from multiday_suite2p.settings import select_settings_file, parse_settings, parse_data_info\n",
    "fc_settings = select_settings_file()"
   ]
  },
  {
   "cell_type": "code",
   "execution_count": 3,
   "metadata": {},
   "outputs": [],
   "source": [
    "settings = parse_settings(fc_settings.selected,request_pass=True)"
   ]
  },
  {
   "cell_type": "markdown",
   "metadata": {},
   "source": [
    "# Load animal data info file.\n",
    "Select settings file that contains the animal and data info."
   ]
  },
  {
   "cell_type": "code",
   "execution_count": 4,
   "metadata": {},
   "outputs": [
    {
     "data": {
      "application/vnd.jupyter.widget-view+json": {
       "model_id": "47f4a10355d64d1983606d00d8f547d1",
       "version_major": 2,
       "version_minor": 0
      },
      "text/plain": [
       "FileChooser(path='/home/cornell/Desktop/Kushaan/projects/suite2pOptimized/multiday-suite2p-public/settings', f…"
      ]
     },
     "metadata": {},
     "output_type": "display_data"
    }
   ],
   "source": [
    "fc_data = select_settings_file(fc_settings.selected_path)"
   ]
  },
  {
   "cell_type": "code",
   "execution_count": 5,
   "metadata": {},
   "outputs": [],
   "source": [
    "data_info = parse_data_info(fc_data.selected)"
   ]
  },
  {
   "cell_type": "markdown",
   "metadata": {},
   "source": [
    "## Import Sessions"
   ]
  },
  {
   "cell_type": "code",
   "execution_count": 6,
   "metadata": {
    "tags": []
   },
   "outputs": [
    {
     "ename": "NameError",
     "evalue": "Could not find any data folders in //nrs/spruston/Monitor-Test/processed/Test-Tyche",
     "output_type": "error",
     "traceback": [
      "\u001b[0;31m---------------------------------------------------------------------------\u001b[0m",
      "\u001b[0;31mNameError\u001b[0m                                 Traceback (most recent call last)",
      "Cell \u001b[0;32mIn[6], line 2\u001b[0m\n\u001b[1;32m      1\u001b[0m \u001b[38;5;28;01mfrom\u001b[39;00m\u001b[38;5;250m \u001b[39m\u001b[38;5;21;01mmultiday_suite2p\u001b[39;00m\u001b[38;5;21;01m.\u001b[39;00m\u001b[38;5;21;01mio\u001b[39;00m\u001b[38;5;250m \u001b[39m\u001b[38;5;28;01mimport\u001b[39;00m import_sessions\n\u001b[0;32m----> 2\u001b[0m sessions, images, cells, im_size, label_im \u001b[38;5;241m=\u001b[39m \u001b[43mimport_sessions\u001b[49m\u001b[43m(\u001b[49m\u001b[43mdata_info\u001b[49m\u001b[43m,\u001b[49m\u001b[43msettings\u001b[49m\u001b[43m,\u001b[49m\u001b[43m \u001b[49m\u001b[43mverbose\u001b[49m\u001b[38;5;241;43m=\u001b[39;49m\u001b[38;5;28;43;01mTrue\u001b[39;49;00m\u001b[43m)\u001b[49m\n",
      "File \u001b[0;32m~/.conda/envs/suite2p/lib/python3.10/site-packages/multiday_suite2p/io.py:61\u001b[0m, in \u001b[0;36mimport_sessions\u001b[0;34m(data_info, settings, verbose)\u001b[0m\n\u001b[1;32m     59\u001b[0m data_paths \u001b[38;5;241m=\u001b[39m \u001b[38;5;28mlist\u001b[39m(Path(data_info[\u001b[38;5;124m'\u001b[39m\u001b[38;5;124mdata\u001b[39m\u001b[38;5;124m'\u001b[39m][\u001b[38;5;124m'\u001b[39m\u001b[38;5;124mlocal_processed_root\u001b[39m\u001b[38;5;124m'\u001b[39m])\u001b[38;5;241m.\u001b[39mglob(\u001b[38;5;124m'\u001b[39m\u001b[38;5;124m[0-9][0-9][0-9][0-9]_[0-9][0-9]_[0-9][0-9]/[0-9]\u001b[39m\u001b[38;5;124m'\u001b[39m))\n\u001b[1;32m     60\u001b[0m \u001b[38;5;28;01mif\u001b[39;00m \u001b[38;5;129;01mnot\u001b[39;00m data_paths:\n\u001b[0;32m---> 61\u001b[0m     \u001b[38;5;28;01mraise\u001b[39;00m \u001b[38;5;167;01mNameError\u001b[39;00m(\u001b[38;5;124mf\u001b[39m\u001b[38;5;124m'\u001b[39m\u001b[38;5;124mCould not find any data folders in \u001b[39m\u001b[38;5;132;01m{\u001b[39;00mdata_info[\u001b[38;5;124m\"\u001b[39m\u001b[38;5;124mdata\u001b[39m\u001b[38;5;124m\"\u001b[39m][\u001b[38;5;124m\"\u001b[39m\u001b[38;5;124mlocal_processed_root\u001b[39m\u001b[38;5;124m\"\u001b[39m]\u001b[38;5;132;01m}\u001b[39;00m\u001b[38;5;124m'\u001b[39m)\n\u001b[1;32m     62\u001b[0m \u001b[38;5;66;03m# filter for specific session if requested.\u001b[39;00m\n\u001b[1;32m     63\u001b[0m \u001b[38;5;28;01mif\u001b[39;00m data_info[\u001b[38;5;124m'\u001b[39m\u001b[38;5;124mdata\u001b[39m\u001b[38;5;124m'\u001b[39m][\u001b[38;5;124m'\u001b[39m\u001b[38;5;124msession_selection\u001b[39m\u001b[38;5;124m'\u001b[39m]:\n",
      "\u001b[0;31mNameError\u001b[0m: Could not find any data folders in //nrs/spruston/Monitor-Test/processed/Test-Tyche"
     ]
    }
   ],
   "source": [
    "from multiday_suite2p.io import import_sessions\n",
    "sessions, images, cells, im_size, label_im = import_sessions(data_info,settings, verbose=True)"
   ]
  },
  {
   "cell_type": "markdown",
   "metadata": {},
   "source": [
    "### Save"
   ]
  },
  {
   "cell_type": "code",
   "execution_count": null,
   "metadata": {},
   "outputs": [],
   "source": [
    "with open(registration_data_folder(data_info)/'import.pkl', 'wb') as f:\n",
    "    pickle.dump([sessions, images, cells, im_size, label_im], f)"
   ]
  },
  {
   "cell_type": "markdown",
   "metadata": {},
   "source": [
    "### Load"
   ]
  },
  {
   "cell_type": "code",
   "execution_count": null,
   "metadata": {},
   "outputs": [],
   "source": [
    "with open(registration_data_folder(data_info)/'import.pkl','rb') as f:  \n",
    "    sessions, images, cells, im_size, label_im = pickle.load(f)"
   ]
  },
  {
   "cell_type": "markdown",
   "metadata": {},
   "source": [
    "# View imported data\n",
    "\n",
    "Use Matplotlib build-in widgets to zoom in/out and pan."
   ]
  },
  {
   "cell_type": "code",
   "execution_count": null,
   "metadata": {},
   "outputs": [],
   "source": [
    "%matplotlib widget\n",
    "from multiday_suite2p.gui import show_imgs_with_masks\n",
    "\n",
    "show_imgs_with_masks(sessions,images,{'Single Session Masks':label_im})"
   ]
  },
  {
   "cell_type": "markdown",
   "metadata": {},
   "source": [
    "# Register session\n",
    "\n",
    "Groupwise difeomorphic demons registration of imaging planes across different sessions using diffeomorphic demons registration.\n",
    "\n",
    "See [Pirt documentation](https://pirt.readthedocs.io/reg.html#pirt.DiffeomorphicDemonsRegistration) for more info\n"
   ]
  },
  {
   "cell_type": "code",
   "execution_count": null,
   "metadata": {},
   "outputs": [],
   "source": [
    "%%time\n",
    "from multiday_suite2p.transform import register_sessions\n",
    "# register.\n",
    "deforms, trans_images = register_sessions(images, settings['registration'])"
   ]
  },
  {
   "cell_type": "code",
   "execution_count": null,
   "metadata": {},
   "outputs": [],
   "source": [
    "trans_masks, trans_label_im = transform.transform_cell_masks(deforms,cells)"
   ]
  },
  {
   "cell_type": "markdown",
   "metadata": {},
   "source": [
    "### Save"
   ]
  },
  {
   "cell_type": "code",
   "execution_count": null,
   "metadata": {},
   "outputs": [],
   "source": [
    "with open(registration_data_folder(data_info)/'register.pkl', 'wb') as f:\n",
    "    pickle.dump([deforms, trans_images,trans_masks, trans_label_im], f)"
   ]
  },
  {
   "cell_type": "markdown",
   "metadata": {},
   "source": [
    "### Load"
   ]
  },
  {
   "cell_type": "code",
   "execution_count": null,
   "metadata": {},
   "outputs": [],
   "source": [
    "with open(registration_data_folder(data_info)/'register.pkl','rb') as f:  \n",
    "    deforms, trans_images,trans_masks, trans_label_im = pickle.load(f)"
   ]
  },
  {
   "cell_type": "markdown",
   "metadata": {},
   "source": [
    "# View Registration Results\n",
    "\n",
    "Use Matplotlib build-in widgets to zoom in/out and pan."
   ]
  },
  {
   "cell_type": "code",
   "execution_count": null,
   "metadata": {},
   "outputs": [],
   "source": [
    "%matplotlib widget\n",
    "from multiday_suite2p.gui import show_imgs_with_masks\n",
    "\n",
    "show_imgs_with_masks(sessions,trans_images,{'Registered Cell Masks':trans_label_im})"
   ]
  },
  {
   "cell_type": "markdown",
   "metadata": {},
   "source": [
    "# Cluster cell masks.\n",
    "\n",
    "Cell masks across different session are clustered together based on their jaccard distance using complete linkage hierarchical clustering. A template mask is then created for each cluster based on how often a pixel is present in different session for that cluster. Only mask clusters that have been detected in a certian minimum number of sessions are included."
   ]
  },
  {
   "cell_type": "code",
   "execution_count": null,
   "metadata": {
    "scrolled": true
   },
   "outputs": [],
   "source": [
    "%%time\n",
    "from multiday_suite2p.transform import cluster_cell_masks\n",
    "# cluster and create template masks.\n",
    "matched_cells, matched_im = cluster_cell_masks(trans_masks, im_size, settings['clustering'])"
   ]
  },
  {
   "cell_type": "code",
   "execution_count": null,
   "metadata": {},
   "outputs": [],
   "source": [
    "from multiday_suite2p.transform import create_template_masks\n",
    "template_masks, template_im = create_template_masks(matched_cells, im_size, settings['clustering'])"
   ]
  },
  {
   "cell_type": "markdown",
   "metadata": {},
   "source": [
    "### Save"
   ]
  },
  {
   "cell_type": "code",
   "execution_count": null,
   "metadata": {},
   "outputs": [],
   "source": [
    "with open(registration_data_folder(data_info)/'match.pkl', 'wb') as f:\n",
    "    pickle.dump([matched_cells, matched_im, template_masks, template_im], f)"
   ]
  },
  {
   "cell_type": "markdown",
   "metadata": {},
   "source": [
    "### Load"
   ]
  },
  {
   "cell_type": "code",
   "execution_count": null,
   "metadata": {},
   "outputs": [],
   "source": [
    "with open(registration_data_folder(data_info)/'match.pkl','rb') as f:  \n",
    "    [matched_cells, matched_im, template_masks, template_im] = pickle.load(f)"
   ]
  },
  {
   "cell_type": "markdown",
   "metadata": {},
   "source": [
    "# View mask clustering results\n",
    "\n",
    "Use Matplotlib build-in widgets to zoom in/out and pan."
   ]
  },
  {
   "cell_type": "code",
   "execution_count": null,
   "metadata": {},
   "outputs": [],
   "source": [
    "%matplotlib widget\n",
    "from multiday_suite2p.gui import show_imgs_with_masks\n",
    "\n",
    "show_imgs_with_masks(sessions,trans_images,{'Clustered Masks': matched_im,'Individual Masks': trans_label_im,'Template Masks': template_im})"
   ]
  },
  {
   "cell_type": "markdown",
   "metadata": {},
   "source": [
    "# Backward transform masks\n",
    "Perform backwards transform of filtered template masks to original sample space of each session."
   ]
  },
  {
   "cell_type": "code",
   "execution_count": null,
   "metadata": {},
   "outputs": [],
   "source": [
    "from multiday_suite2p.transform import backward_transform_masks\n",
    "# Backward transform masks.\n",
    "deform_masks, deform_label_ims, deform_lam_ims = \\\n",
    "    backward_transform_masks(template_masks, deforms)"
   ]
  },
  {
   "cell_type": "markdown",
   "metadata": {},
   "source": [
    "### Save"
   ]
  },
  {
   "cell_type": "code",
   "execution_count": null,
   "metadata": {},
   "outputs": [],
   "source": [
    "with open(registration_data_folder(data_info)/'filter.pkl', 'wb') as f:\n",
    "    pickle.dump([deform_masks, deform_label_ims, deform_lam_ims,template_masks], f)"
   ]
  },
  {
   "cell_type": "markdown",
   "metadata": {},
   "source": [
    "### Load"
   ]
  },
  {
   "cell_type": "code",
   "execution_count": null,
   "metadata": {},
   "outputs": [],
   "source": [
    "with open(registration_data_folder(data_info)/'filter.pkl','rb') as f:  \n",
    "    [deform_masks, deform_label_ims, deform_lam_ims, template_masks] = pickle.load(f)"
   ]
  },
  {
   "cell_type": "markdown",
   "metadata": {},
   "source": [
    "# View backward transform result\n",
    "\n",
    "Use Matplotlib build-in widgets to zoom in/out and pan."
   ]
  },
  {
   "cell_type": "code",
   "execution_count": null,
   "metadata": {},
   "outputs": [],
   "source": [
    "%matplotlib widget\n",
    "from multiday_suite2p.gui import show_imgs_with_masks\n",
    "\n",
    "# add lambda weights image\n",
    "added_images = images\n",
    "for i, img_session in enumerate(added_images):\n",
    "    img_session['lambda_weights'] = deform_lam_ims[i]\n",
    "show_imgs_with_masks(sessions,added_images,{'Backward Transformed Masks': deform_label_ims})"
   ]
  },
  {
   "cell_type": "markdown",
   "metadata": {},
   "source": [
    "# Export results\n",
    "Exports results to 'multi-day' folder."
   ]
  },
  {
   "cell_type": "code",
   "execution_count": null,
   "metadata": {},
   "outputs": [],
   "source": [
    "from multiday_suite2p.io import export_masks_and_images\n",
    "export_masks_and_images(deform_masks,template_masks, trans_images, images,sessions, data_info, settings)"
   ]
  },
  {
   "cell_type": "markdown",
   "metadata": {},
   "source": [
    "# Run trace extraction\n",
    "Sends Parallel jobs to the cluster to extract traces for each session with new cell masks.\n",
    "Logs will be saved in \"linux root\"/logs\n",
    "\n",
    "<mark>**Note: Run only once untill they are completed ! (see cell below to check progress)**</mark>\n",
    "\n",
    "Otherwise you risk spamming the cluster and having processes access the same files\n",
    "\n",
    "## The force_recalc option\n",
    "\n",
    "<mark>**Be mindfull of the force_recalc option**</mark>\n",
    "\n",
    "### force_recalc=True\n",
    "\n",
    "Setting this to True will recalculate the trace extraction even if a result trace file is already present for that session.\n",
    "\n",
    "Do this in case you changed some settings and want to calculate a new result even if an old result trace file is already present\n",
    "\n",
    "### force_recalc=False\n",
    "\n",
    "Setting force_recalc to False will only start jobs for sessions that do not have a result file.\n",
    "\n",
    "Do this in case a job fails due to a cluster issues and you only want to rerun a few jobs with the same settings."
   ]
  },
  {
   "cell_type": "code",
   "execution_count": null,
   "metadata": {},
   "outputs": [],
   "source": [
    "from pathlib import Path\n",
    "from multiday_suite2p.cluster.jobs import extract_job\n",
    "\n",
    "force_recalc=True # Setting this to true will cause recalculation of sessions that already have a result trace file.\n",
    "\n",
    "info = np.load(Path(data_info['data']['local_processed_root'])/data_info['data']['output_folder']/'info.npy',allow_pickle=True).item()\n",
    "jobs = [extract_job(data_info, settings, data_path,force_recalc=force_recalc) for data_path in info['data_paths']]"
   ]
  },
  {
   "cell_type": "markdown",
   "metadata": {},
   "source": [
    "# Monitor Jobs\n",
    "\n",
    "Here you can monitor the progress of the extraction jobs.\n",
    "If some jobs are set to 'DONE' but the trace files are still absent you can check the logs (\"linux root\"/logs) and rerun the jobs (above)"
   ]
  },
  {
   "cell_type": "code",
   "execution_count": null,
   "metadata": {},
   "outputs": [],
   "source": [
    "from multiday_suite2p.cluster.jobs import check_job_status\n",
    "for job in jobs:\n",
    "    check_job_status(job, data_info, settings)"
   ]
  }
 ],
 "metadata": {
  "kernelspec": {
   "display_name": "Python 3",
   "language": "python",
   "name": "python3"
  },
  "language_info": {
   "codemirror_mode": {
    "name": "ipython",
    "version": 3
   },
   "file_extension": ".py",
   "mimetype": "text/x-python",
   "name": "python",
   "nbconvert_exporter": "python",
   "pygments_lexer": "ipython3",
   "version": "3.10.16"
  }
 },
 "nbformat": 4,
 "nbformat_minor": 4
}
